{
  "nbformat": 4,
  "nbformat_minor": 0,
  "metadata": {
    "colab": {
      "provenance": []
    },
    "kernelspec": {
      "name": "python3",
      "display_name": "Python 3"
    },
    "language_info": {
      "name": "python"
    }
  },
  "cells": [
    {
      "cell_type": "code",
      "execution_count": null,
      "metadata": {
        "id": "u3L2F7JoAWsY"
      },
      "outputs": [],
      "source": []
    },
    {
      "cell_type": "code",
      "source": [
        "from google.colab import drive\n",
        "drive.mount('/content/drive')"
      ],
      "metadata": {
        "id": "opQTO5gjAZK7"
      },
      "execution_count": null,
      "outputs": []
    },
    {
      "cell_type": "code",
      "source": [
        "import pandas as pd\n",
        "a=pd.read_csv(\"/content/drive/MyDrive/spamdata.csv\")\n",
        "print(a)"
      ],
      "metadata": {
        "colab": {
          "base_uri": "https://localhost:8080/"
        },
        "id": "xU0kCZbrAmuz",
        "outputId": "a3745293-42c4-4d2a-e4c0-0d3f6d654d02"
      },
      "execution_count": null,
      "outputs": [
        {
          "output_type": "stream",
          "name": "stdout",
          "text": [
            "                                               Sentence Sentiment\n",
            "0     The GeoSolutions technology will leverage Bene...  positive\n",
            "1     $ESI on lows, down $1.50 to $2.50 BK a real po...  negative\n",
            "2     For the last quarter of 2010 , Componenta 's n...  positive\n",
            "3     According to the Finnish-Russian Chamber of Co...   neutral\n",
            "4     The Swedish buyout firm has sold its remaining...   neutral\n",
            "...                                                 ...       ...\n",
            "5837  RISING costs have forced packaging producer Hu...  negative\n",
            "5838  Nordic Walking was first used as a summer trai...   neutral\n",
            "5839  According shipping company Viking Line , the E...   neutral\n",
            "5840  In the building and home improvement trade , s...   neutral\n",
            "5841  HELSINKI AFX - KCI Konecranes said it has won ...  positive\n",
            "\n",
            "[5842 rows x 2 columns]\n"
          ]
        }
      ]
    },
    {
      "cell_type": "code",
      "source": [
        "data=a.where((pd.notnull(a)),'')"
      ],
      "metadata": {
        "id": "O9f8VyE3A2Oo"
      },
      "execution_count": null,
      "outputs": []
    },
    {
      "cell_type": "code",
      "source": [
        "data.loc[data[\"Sentiment\"]=='positive','Sentiment',]=4\n",
        "data.loc[data[\"Sentiment\"]=='neutral','Sentiment',]=3\n",
        "data.loc[data[\"Sentiment\"]=='negative','Sentiment']=-2"
      ],
      "metadata": {
        "id": "O8KUwcOeFTRq"
      },
      "execution_count": null,
      "outputs": []
    },
    {
      "cell_type": "code",
      "source": [
        "x=data[\"Sentence\"]"
      ],
      "metadata": {
        "id": "JqJ06nqsHArz"
      },
      "execution_count": null,
      "outputs": []
    },
    {
      "cell_type": "code",
      "source": [
        "x=data[\"Sentence\"]\n",
        "y=data[\"Sentiment\"]\n",
        "print(x)"
      ],
      "metadata": {
        "colab": {
          "base_uri": "https://localhost:8080/"
        },
        "id": "fI8oeMsCGQJL",
        "outputId": "573c2e31-a35f-470b-b4c5-6093dae4f8ba"
      },
      "execution_count": null,
      "outputs": [
        {
          "output_type": "stream",
          "name": "stdout",
          "text": [
            "0       The GeoSolutions technology will leverage Bene...\n",
            "1       $ESI on lows, down $1.50 to $2.50 BK a real po...\n",
            "2       For the last quarter of 2010 , Componenta 's n...\n",
            "3       According to the Finnish-Russian Chamber of Co...\n",
            "4       The Swedish buyout firm has sold its remaining...\n",
            "                              ...                        \n",
            "5837    RISING costs have forced packaging producer Hu...\n",
            "5838    Nordic Walking was first used as a summer trai...\n",
            "5839    According shipping company Viking Line , the E...\n",
            "5840    In the building and home improvement trade , s...\n",
            "5841    HELSINKI AFX - KCI Konecranes said it has won ...\n",
            "Name: Sentence, Length: 5842, dtype: object\n"
          ]
        }
      ]
    },
    {
      "cell_type": "code",
      "source": [
        "print(y)"
      ],
      "metadata": {
        "colab": {
          "base_uri": "https://localhost:8080/"
        },
        "id": "7wogrTVtGc5T",
        "outputId": "67a5abd2-81e5-47cd-fba3-4a9799c431c5"
      },
      "execution_count": null,
      "outputs": [
        {
          "output_type": "stream",
          "name": "stdout",
          "text": [
            "0        4\n",
            "1       -2\n",
            "2        4\n",
            "3        3\n",
            "4        3\n",
            "        ..\n",
            "5837    -2\n",
            "5838     3\n",
            "5839     3\n",
            "5840     3\n",
            "5841     4\n",
            "Name: Sentiment, Length: 5842, dtype: object\n"
          ]
        }
      ]
    },
    {
      "cell_type": "code",
      "source": [
        "from sklearn.model_selection import train_test_split\n",
        "xtrain,xtest,ytrain,ytest=train_test_split(x,y,test_size=0.40)\n",
        "print(xtrain)\n",
        "print(xtest)\n",
        "print(ytrain)\n",
        "print(ytest)"
      ],
      "metadata": {
        "colab": {
          "base_uri": "https://localhost:8080/"
        },
        "id": "HsmmglbPHgdt",
        "outputId": "451b689f-4c64-4ca9-f851-1bc673b50afc"
      },
      "execution_count": null,
      "outputs": [
        {
          "output_type": "stream",
          "name": "stdout",
          "text": [
            "475     Operating loss increased to EUR 17mn from a lo...\n",
            "3743    The company 's transportation business is cond...\n",
            "1190    The inventors are Bylander Johan , Ponten Fred...\n",
            "5056    The size of a cider bottle will remain unchang...\n",
            "1953    Export declined by 6 percent to 16.4 million l...\n",
            "                              ...                        \n",
            "1679    LKAB , headquartered in Lulea , Sweden , is a ...\n",
            "2748    `` We are selling an information systems devel...\n",
            "3557    Raffles Equities Ltd became a substantial hold...\n",
            "1639    The earnings per share for the quarter came in...\n",
            "2567    Fortum expects its annual capital expenditure ...\n",
            "Name: Sentence, Length: 3505, dtype: object\n",
            "484     Revenue in the quarter fell 8 percent to ( EUR...\n",
            "4412    Metrics in QPR ScoreCard now support date , te...\n",
            "2750    RusHydro has an agreement to transfer its stak...\n",
            "2338    The building will house , for example , Respec...\n",
            "4416    The policy was also aimed at making the compan...\n",
            "                              ...                        \n",
            "207     One of the installed elevators will be a doubl...\n",
            "3148    Pharmaceuticals - Netherlands This brand-new m...\n",
            "3857    Acando AB ( ACANB SS ) fell 8.9 percent to 13....\n",
            "1129    Bovine slaughtering and cutting at the Kuopio ...\n",
            "923     Despite sales growth, UK's Tesco cautions reco...\n",
            "Name: Sentence, Length: 2337, dtype: object\n",
            "475     3\n",
            "3743    3\n",
            "1190    3\n",
            "5056    3\n",
            "1953    3\n",
            "       ..\n",
            "1679    3\n",
            "2748    3\n",
            "3557    3\n",
            "1639    4\n",
            "2567    3\n",
            "Name: Sentiment, Length: 3505, dtype: object\n",
            "484     3\n",
            "4412    4\n",
            "2750    3\n",
            "2338    3\n",
            "4416    4\n",
            "       ..\n",
            "207     4\n",
            "3148    3\n",
            "3857    3\n",
            "1129    3\n",
            "923     3\n",
            "Name: Sentiment, Length: 2337, dtype: object\n"
          ]
        }
      ]
    },
    {
      "cell_type": "code",
      "source": [
        "from sklearn.feature_extraction.text import TfidfVectorizer\n",
        "feature_extraction=TfidfVectorizer(min_df=1,stop_words='english',lowercase=True)"
      ],
      "metadata": {
        "id": "bOP0-U4xLhh3"
      },
      "execution_count": null,
      "outputs": []
    },
    {
      "cell_type": "code",
      "source": [
        "xtrain=feature_extraction.fit_transform(xtrain)\n",
        "xtest=feature_extraction.transform(xtest)"
      ],
      "metadata": {
        "id": "g4qIxbAeL_Th"
      },
      "execution_count": null,
      "outputs": []
    },
    {
      "cell_type": "code",
      "source": [
        "ytrain=ytrain.astype(\"int\")\n",
        "ytest=ytest.astype(\"int\")"
      ],
      "metadata": {
        "id": "4HLEZLWgMNss"
      },
      "execution_count": null,
      "outputs": []
    },
    {
      "cell_type": "code",
      "source": [
        "print(xtrain)"
      ],
      "metadata": {
        "colab": {
          "base_uri": "https://localhost:8080/"
        },
        "id": "A2fgtj-JMg7e",
        "outputId": "e6a3c87e-851d-42ba-e98c-cc73328f0f7b"
      },
      "execution_count": null,
      "outputs": [
        {
          "output_type": "stream",
          "name": "stdout",
          "text": [
            "  (0, 192)\t0.2952006995321406\n",
            "  (0, 5064)\t0.22003477184043618\n",
            "  (0, 36)\t0.266722237571497\n",
            "  (0, 143)\t0.48302064492638763\n",
            "  (0, 2817)\t0.3615692385811512\n",
            "  (0, 3964)\t0.3182003082724613\n",
            "  (0, 4710)\t0.526118025386574\n",
            "  (0, 5433)\t0.22629101534771973\n",
            "  (1, 1874)\t0.2347225672869883\n",
            "  (1, 1473)\t0.24340646958398746\n",
            "  (1, 2539)\t0.25564574245089056\n",
            "  (1, 4638)\t0.21024402155318223\n",
            "  (1, 1586)\t0.2178301388333384\n",
            "  (1, 5117)\t0.25564574245089056\n",
            "  (1, 3689)\t0.25564574245089056\n",
            "  (1, 1937)\t0.2347225672869883\n",
            "  (1, 7152)\t0.24340646958398746\n",
            "  (1, 4627)\t0.20706363420357643\n",
            "  (1, 7560)\t0.22798680936747867\n",
            "  (1, 6570)\t0.24340646958398746\n",
            "  (1, 3262)\t0.25564574245089056\n",
            "  (1, 1951)\t0.2178301388333384\n",
            "  (1, 1488)\t0.1257242620097537\n",
            "  (1, 7827)\t0.4083732477810055\n",
            "  (1, 1890)\t0.1847170841852574\n",
            "  :\t:\n",
            "  (3502, 144)\t0.22688610826137928\n",
            "  (3502, 54)\t0.20550417449037225\n",
            "  (3502, 69)\t0.20805592555025404\n",
            "  (3502, 6922)\t0.1857129760924185\n",
            "  (3502, 5030)\t0.15955311927137544\n",
            "  (3503, 1535)\t0.3976740201282577\n",
            "  (3503, 2577)\t0.29366291947789963\n",
            "  (3503, 249)\t0.3141103228258475\n",
            "  (3503, 2582)\t0.3141103228258475\n",
            "  (3503, 184)\t0.2979397812715802\n",
            "  (3503, 6916)\t0.24270718168322047\n",
            "  (3503, 6145)\t0.4798705392102891\n",
            "  (3503, 8436)\t0.2189797299625663\n",
            "  (3503, 2817)\t0.3638462969249648\n",
            "  (3504, 3004)\t0.4140720919989491\n",
            "  (3504, 3322)\t0.34736190609263273\n",
            "  (3504, 8438)\t0.3033409039647205\n",
            "  (3504, 6195)\t0.337023011869297\n",
            "  (3504, 2577)\t0.25942400831235846\n",
            "  (3504, 3003)\t0.29560989729343345\n",
            "  (3504, 1561)\t0.25798471947229595\n",
            "  (3504, 915)\t0.29145841049522936\n",
            "  (3504, 1276)\t0.286383100980655\n",
            "  (3504, 912)\t0.2970689048692455\n",
            "  (3504, 2817)\t0.16071226310372924\n"
          ]
        }
      ]
    },
    {
      "cell_type": "code",
      "source": [
        "print(xtest)\n",
        "print(ytrain)\n",
        "print(ytest)"
      ],
      "metadata": {
        "colab": {
          "base_uri": "https://localhost:8080/"
        },
        "id": "Hh7mittTMn_x",
        "outputId": "813919e4-c2f0-47ad-9f41-09ee7cee9ab9"
      },
      "execution_count": null,
      "outputs": [
        {
          "output_type": "stream",
          "name": "stdout",
          "text": [
            "  (0, 8436)\t0.25238827516136514\n",
            "  (0, 6513)\t0.3838237281024965\n",
            "  (0, 6145)\t0.2765408873979866\n",
            "  (0, 5693)\t0.3413809276132508\n",
            "  (0, 3142)\t0.3633814927357778\n",
            "  (0, 2923)\t0.33475926972162606\n",
            "  (0, 2577)\t0.3384654722998698\n",
            "  (0, 1896)\t0.3125527768508335\n",
            "  (0, 1276)\t0.37363847765165037\n",
            "  (1, 8090)\t0.32710161537120935\n",
            "  (1, 7449)\t0.4267569662976653\n",
            "  (1, 6350)\t0.22955034173067806\n",
            "  (1, 6134)\t0.30033017639008913\n",
            "  (1, 6027)\t0.23628439648269678\n",
            "  (1, 5990)\t0.22657787372606913\n",
            "  (1, 5697)\t0.2401499221299529\n",
            "  (1, 5025)\t0.3114413274769094\n",
            "  (1, 4823)\t0.257898449514669\n",
            "  (1, 3938)\t0.257898449514669\n",
            "  (1, 2209)\t0.2735587374089689\n",
            "  (1, 2008)\t0.2519446843769967\n",
            "  (1, 1185)\t0.18660704416771243\n",
            "  (2, 7866)\t0.41539119397084884\n",
            "  (2, 7821)\t0.32915757000292356\n",
            "  (2, 7240)\t0.4362784209135313\n",
            "  :\t:\n",
            "  (2333, 1394)\t0.21005688385710347\n",
            "  (2333, 894)\t0.2355319524054707\n",
            "  (2333, 703)\t0.2593317679347899\n",
            "  (2334, 7219)\t0.3886715407523926\n",
            "  (2334, 5693)\t0.22550600505254467\n",
            "  (2334, 4728)\t0.3886715407523926\n",
            "  (2334, 4435)\t0.3886715407523926\n",
            "  (2334, 3142)\t0.24003891872281274\n",
            "  (2334, 2233)\t0.3148096305775716\n",
            "  (2334, 1791)\t0.2786249686667402\n",
            "  (2334, 632)\t0.2746317568368563\n",
            "  (2334, 333)\t0.26594687656243515\n",
            "  (2334, 81)\t0.25235035386915416\n",
            "  (2334, 54)\t0.22751623816263875\n",
            "  (2335, 7822)\t0.4293800485767076\n",
            "  (2335, 7072)\t0.49338167882721784\n",
            "  (2335, 4329)\t0.49338167882721784\n",
            "  (2335, 3073)\t0.3800191913098609\n",
            "  (2335, 2173)\t0.4293800485767076\n",
            "  (2336, 7947)\t0.3897955359489974\n",
            "  (2336, 7653)\t0.41225765177368096\n",
            "  (2336, 6699)\t0.22313952996112876\n",
            "  (2336, 6282)\t0.5065066250689858\n",
            "  (2336, 3586)\t0.3394317256820033\n",
            "  (2336, 2318)\t0.5065066250689858\n",
            "475     3\n",
            "3743    3\n",
            "1190    3\n",
            "5056    3\n",
            "1953    3\n",
            "       ..\n",
            "1679    3\n",
            "2748    3\n",
            "3557    3\n",
            "1639    4\n",
            "2567    3\n",
            "Name: Sentiment, Length: 3505, dtype: int64\n",
            "484     3\n",
            "4412    4\n",
            "2750    3\n",
            "2338    3\n",
            "4416    4\n",
            "       ..\n",
            "207     4\n",
            "3148    3\n",
            "3857    3\n",
            "1129    3\n",
            "923     3\n",
            "Name: Sentiment, Length: 2337, dtype: int64\n"
          ]
        }
      ]
    },
    {
      "cell_type": "code",
      "source": [
        "\n",
        "from sklearn.ensemble import RandomForestClassifier\n",
        "b=RandomForestClassifier()\n",
        "b.fit(xtrain,ytrain)\n",
        "y_pred=b.predict(xtest)\n"
      ],
      "metadata": {
        "id": "yMy7RTLHNM-k"
      },
      "execution_count": null,
      "outputs": []
    },
    {
      "cell_type": "code",
      "source": [
        "from sklearn.metrics import accuracy_score\n",
        "print(accuracy_score(ytest,y_pred))"
      ],
      "metadata": {
        "colab": {
          "base_uri": "https://localhost:8080/"
        },
        "id": "iKGGGLYVNkUn",
        "outputId": "f397ed63-5573-41fc-c434-e96eda3a2ec9"
      },
      "execution_count": null,
      "outputs": [
        {
          "output_type": "stream",
          "name": "stdout",
          "text": [
            "0.6452717158750535\n"
          ]
        }
      ]
    },
    {
      "cell_type": "code",
      "source": [
        "from sklearn.metrics import confusion_matrix\n",
        "print(confusion_matrix(ytest,y_pred))"
      ],
      "metadata": {
        "colab": {
          "base_uri": "https://localhost:8080/"
        },
        "id": "ThVL1phLSnpw",
        "outputId": "eff08b8e-c24f-41af-ccf1-8af0b19237f5"
      },
      "execution_count": null,
      "outputs": [
        {
          "output_type": "stream",
          "name": "stdout",
          "text": [
            "[[  38  229   79]\n",
            " [ 111 1029   81]\n",
            " [  23  306  441]]\n"
          ]
        }
      ]
    },
    {
      "cell_type": "code",
      "source": [
        "from sklearn.metrics import classification_report\n",
        "print(classification_report(ytest,y_pred))"
      ],
      "metadata": {
        "colab": {
          "base_uri": "https://localhost:8080/"
        },
        "id": "cpYJ07qoS0-h",
        "outputId": "4b030b5a-8708-4156-bacd-11c9f3355cb0"
      },
      "execution_count": null,
      "outputs": [
        {
          "output_type": "stream",
          "name": "stdout",
          "text": [
            "              precision    recall  f1-score   support\n",
            "\n",
            "          -2       0.22      0.11      0.15       346\n",
            "           3       0.66      0.84      0.74      1221\n",
            "           4       0.73      0.57      0.64       770\n",
            "\n",
            "    accuracy                           0.65      2337\n",
            "   macro avg       0.54      0.51      0.51      2337\n",
            "weighted avg       0.62      0.65      0.62      2337\n",
            "\n"
          ]
        }
      ]
    },
    {
      "cell_type": "code",
      "source": [
        "import pandas as pd\n",
        "a = pd.read_csv(\"/content/drive/MyDrive/spam.csv\",encoding='latin-1')\n",
        "print(a)"
      ],
      "metadata": {
        "colab": {
          "base_uri": "https://localhost:8080/"
        },
        "id": "tmMNNMR0ZO8A",
        "outputId": "6391dde4-ce14-4489-f4d1-87e5773e7f3f"
      },
      "execution_count": null,
      "outputs": [
        {
          "output_type": "stream",
          "name": "stdout",
          "text": [
            "        v1                                                 v2 Unnamed: 2  \\\n",
            "0      ham  Go until jurong point, crazy.. Available only ...        NaN   \n",
            "1      ham                      Ok lar... Joking wif u oni...        NaN   \n",
            "2     spam  Free entry in 2 a wkly comp to win FA Cup fina...        NaN   \n",
            "3      ham  U dun say so early hor... U c already then say...        NaN   \n",
            "4      ham  Nah I don't think he goes to usf, he lives aro...        NaN   \n",
            "...    ...                                                ...        ...   \n",
            "5567  spam  This is the 2nd time we have tried 2 contact u...        NaN   \n",
            "5568   ham              Will Ì_ b going to esplanade fr home?        NaN   \n",
            "5569   ham  Pity, * was in mood for that. So...any other s...        NaN   \n",
            "5570   ham  The guy did some bitching but I acted like i'd...        NaN   \n",
            "5571   ham                         Rofl. Its true to its name        NaN   \n",
            "\n",
            "     Unnamed: 3 Unnamed: 4  \n",
            "0           NaN        NaN  \n",
            "1           NaN        NaN  \n",
            "2           NaN        NaN  \n",
            "3           NaN        NaN  \n",
            "4           NaN        NaN  \n",
            "...         ...        ...  \n",
            "5567        NaN        NaN  \n",
            "5568        NaN        NaN  \n",
            "5569        NaN        NaN  \n",
            "5570        NaN        NaN  \n",
            "5571        NaN        NaN  \n",
            "\n",
            "[5572 rows x 5 columns]\n"
          ]
        }
      ]
    },
    {
      "cell_type": "code",
      "source": [
        "data=a.where((pd.notnull(a)))"
      ],
      "metadata": {
        "id": "NYBxvnnMaZ-y"
      },
      "execution_count": null,
      "outputs": []
    },
    {
      "cell_type": "code",
      "source": [
        "data.loc[data[\"v1\"]=='ham','v1',]=0\n",
        "data.loc[data[\"v1\"]=='spam','v1',]=-1"
      ],
      "metadata": {
        "id": "4De8y4isaqBT"
      },
      "execution_count": null,
      "outputs": []
    },
    {
      "cell_type": "code",
      "source": [
        "x=data[\"v2\"]\n",
        "y=data[\"v1\"]\n",
        "print(x)"
      ],
      "metadata": {
        "colab": {
          "base_uri": "https://localhost:8080/"
        },
        "id": "82fMJtKDeoi-",
        "outputId": "33b3eeb8-75b7-4c98-c312-fc1968a098f3"
      },
      "execution_count": null,
      "outputs": [
        {
          "output_type": "stream",
          "name": "stdout",
          "text": [
            "0       Go until jurong point, crazy.. Available only ...\n",
            "1                           Ok lar... Joking wif u oni...\n",
            "2       Free entry in 2 a wkly comp to win FA Cup fina...\n",
            "3       U dun say so early hor... U c already then say...\n",
            "4       Nah I don't think he goes to usf, he lives aro...\n",
            "                              ...                        \n",
            "5567    This is the 2nd time we have tried 2 contact u...\n",
            "5568                Will Ì_ b going to esplanade fr home?\n",
            "5569    Pity, * was in mood for that. So...any other s...\n",
            "5570    The guy did some bitching but I acted like i'd...\n",
            "5571                           Rofl. Its true to its name\n",
            "Name: v2, Length: 5572, dtype: object\n"
          ]
        }
      ]
    },
    {
      "cell_type": "code",
      "source": [
        "print(y)"
      ],
      "metadata": {
        "colab": {
          "base_uri": "https://localhost:8080/"
        },
        "id": "Bn-KqJ7IfBnY",
        "outputId": "10c45d5d-c4b9-443b-a27a-55cadae4eeee"
      },
      "execution_count": null,
      "outputs": [
        {
          "output_type": "stream",
          "name": "stdout",
          "text": [
            "0        0\n",
            "1        0\n",
            "2       -1\n",
            "3        0\n",
            "4        0\n",
            "        ..\n",
            "5567    -1\n",
            "5568     0\n",
            "5569     0\n",
            "5570     0\n",
            "5571     0\n",
            "Name: v1, Length: 5572, dtype: object\n"
          ]
        }
      ]
    },
    {
      "cell_type": "code",
      "source": [
        "from sklearn.model_selection import train_test_split\n",
        "xtrain,xtest,ytrain,ytest=train_test_split(x,y,test_size=0.20)\n",
        "print(xtrain)\n",
        "print(xtest)\n",
        "print(ytrain)\n",
        "print(ytest)"
      ],
      "metadata": {
        "colab": {
          "base_uri": "https://localhost:8080/"
        },
        "id": "3Q7479ELfHPJ",
        "outputId": "dcc980ec-250d-4849-abd2-3a1967024bc8"
      },
      "execution_count": null,
      "outputs": [
        {
          "output_type": "stream",
          "name": "stdout",
          "text": [
            "5280                  Vikky, come around  &lt;TIME&gt; ..\n",
            "1208                      Also maaaan are you missing out\n",
            "3782                       Can you do online transaction?\n",
            "5496    Yes... I trust u to buy new stuff ASAP so I ca...\n",
            "4796    Santa calling! Would your little ones like a c...\n",
            "                              ...                        \n",
            "3426                   Haha okay... Today weekend leh... \n",
            "4221    Yo you around? A friend of mine's lookin to pi...\n",
            "1008    Poyyarikatur,kolathupalayam,unjalur post,erode...\n",
            "5176    Company is very good.environment is terrific a...\n",
            "2113    Yeah, don't go to bed, I'll be back before mid...\n",
            "Name: v2, Length: 4457, dtype: object\n",
            "2683    I'm okay. Chasing the dream. What's good. What...\n",
            "2055                     Sir, I am waiting for your mail.\n",
            "3571                 Yup, leaving right now, be back soon\n",
            "25      Just forced myself to eat a slice. I'm really ...\n",
            "1513                 Hows the champ just leaving glasgow!\n",
            "                              ...                        \n",
            "4599    Hi did u decide wot 2 get 4 his bday if not il...\n",
            "3756    YES! The only place in town to meet exciting a...\n",
            "2202    (And my man carlos is definitely coming by mu ...\n",
            "1162    Free entry in 2 a wkly comp to win FA Cup fina...\n",
            "4757    URGENT! Your Mobile number has been awarded wi...\n",
            "Name: v2, Length: 1115, dtype: object\n",
            "5280     0\n",
            "1208     0\n",
            "3782     0\n",
            "5496     0\n",
            "4796    -1\n",
            "        ..\n",
            "3426     0\n",
            "4221     0\n",
            "1008     0\n",
            "5176     0\n",
            "2113     0\n",
            "Name: v1, Length: 4457, dtype: object\n",
            "2683     0\n",
            "2055     0\n",
            "3571     0\n",
            "25       0\n",
            "1513     0\n",
            "        ..\n",
            "4599     0\n",
            "3756    -1\n",
            "2202     0\n",
            "1162    -1\n",
            "4757    -1\n",
            "Name: v1, Length: 1115, dtype: object\n"
          ]
        }
      ]
    },
    {
      "cell_type": "code",
      "source": [
        "from sklearn.feature_extraction.text import TfidfVectorizer\n",
        "feature_extraction=TfidfVectorizer(min_df=1,stop_words=\"english\",lowercase=True)"
      ],
      "metadata": {
        "id": "AY66uuT3fcaA"
      },
      "execution_count": null,
      "outputs": []
    },
    {
      "cell_type": "code",
      "source": [
        "xtrain=feature_extraction.fit_transform(xtrain)\n",
        "xtest=feature_extraction.transform(xtest)"
      ],
      "metadata": {
        "id": "p7PYzeGOfxLv"
      },
      "execution_count": null,
      "outputs": []
    },
    {
      "cell_type": "code",
      "source": [
        "ytrain=ytrain.astype(\"int\")\n",
        "ytest=ytest.astype(\"int\")"
      ],
      "metadata": {
        "id": "6u5oagTpgADm"
      },
      "execution_count": null,
      "outputs": []
    },
    {
      "cell_type": "code",
      "source": [
        "print(xtest)\n",
        "print(xtest)\n",
        "print(ytrain)\n",
        "print(ytest)"
      ],
      "metadata": {
        "colab": {
          "base_uri": "https://localhost:8080/"
        },
        "id": "hj1e_HA3gKri",
        "outputId": "ad2144e9-4d70-4adf-e980-de57efee1901"
      },
      "execution_count": null,
      "outputs": [
        {
          "output_type": "stream",
          "name": "stdout",
          "text": [
            "  (0, 4738)\t0.4389786449851667\n",
            "  (0, 3089)\t0.2944725378924546\n",
            "  (0, 2387)\t0.5047011403052825\n",
            "  (0, 2339)\t0.357124356139046\n",
            "  (0, 1694)\t0.5816550755396048\n",
            "  (1, 7056)\t0.5474250527671872\n",
            "  (1, 5940)\t0.5714994427083353\n",
            "  (1, 4167)\t0.6113216817575708\n",
            "  (2, 7394)\t0.5028982932191446\n",
            "  (2, 6071)\t0.47803553327171017\n",
            "  (2, 5566)\t0.44299344127050083\n",
            "  (2, 3914)\t0.5677430286654539\n",
            "  (3, 7270)\t0.29215539195004975\n",
            "  (3, 6794)\t0.3312860772027294\n",
            "  (3, 6586)\t0.2727858090499335\n",
            "  (3, 6320)\t0.29748269522949194\n",
            "  (3, 5906)\t0.28745637743531854\n",
            "  (3, 5398)\t0.20619393002382153\n",
            "  (3, 5029)\t0.29748269522949194\n",
            "  (3, 4208)\t0.29748269522949194\n",
            "  (3, 4038)\t0.21312232403808812\n",
            "  (3, 3818)\t0.29215539195004975\n",
            "  (3, 3734)\t0.1493278362067339\n",
            "  (3, 3426)\t0.27597915385600236\n",
            "  (3, 3031)\t0.22794604236977611\n",
            "  :\t:\n",
            "  (1113, 2777)\t0.1840772113081856\n",
            "  (1113, 2672)\t0.4789626906387066\n",
            "  (1113, 2559)\t0.3719486402622901\n",
            "  (1113, 2057)\t0.20136217145373378\n",
            "  (1113, 1870)\t0.19522635494311427\n",
            "  (1113, 1007)\t0.16791474054894778\n",
            "  (1113, 706)\t0.22042175838654351\n",
            "  (1113, 371)\t0.2283322016844246\n",
            "  (1113, 363)\t0.2283322016844246\n",
            "  (1113, 72)\t0.2394813453193533\n",
            "  (1114, 6946)\t0.26557349263538443\n",
            "  (1114, 6908)\t0.222660726972698\n",
            "  (1114, 5222)\t0.21934576205382994\n",
            "  (1114, 4678)\t0.2112510810489856\n",
            "  (1114, 4388)\t0.19901462066802464\n",
            "  (1114, 3974)\t0.2436980203548344\n",
            "  (1114, 3860)\t0.2789734822738453\n",
            "  (1114, 3166)\t0.23737440167204174\n",
            "  (1114, 1771)\t0.20583001362507672\n",
            "  (1114, 1144)\t0.2539492219088177\n",
            "  (1114, 444)\t0.3137587060993002\n",
            "  (1114, 360)\t0.26557349263538443\n",
            "  (1114, 320)\t0.2569560931851334\n",
            "  (1114, 299)\t0.2789734822738453\n",
            "  (1114, 211)\t0.366472834265809\n",
            "  (0, 4738)\t0.4389786449851667\n",
            "  (0, 3089)\t0.2944725378924546\n",
            "  (0, 2387)\t0.5047011403052825\n",
            "  (0, 2339)\t0.357124356139046\n",
            "  (0, 1694)\t0.5816550755396048\n",
            "  (1, 7056)\t0.5474250527671872\n",
            "  (1, 5940)\t0.5714994427083353\n",
            "  (1, 4167)\t0.6113216817575708\n",
            "  (2, 7394)\t0.5028982932191446\n",
            "  (2, 6071)\t0.47803553327171017\n",
            "  (2, 5566)\t0.44299344127050083\n",
            "  (2, 3914)\t0.5677430286654539\n",
            "  (3, 7270)\t0.29215539195004975\n",
            "  (3, 6794)\t0.3312860772027294\n",
            "  (3, 6586)\t0.2727858090499335\n",
            "  (3, 6320)\t0.29748269522949194\n",
            "  (3, 5906)\t0.28745637743531854\n",
            "  (3, 5398)\t0.20619393002382153\n",
            "  (3, 5029)\t0.29748269522949194\n",
            "  (3, 4208)\t0.29748269522949194\n",
            "  (3, 4038)\t0.21312232403808812\n",
            "  (3, 3818)\t0.29215539195004975\n",
            "  (3, 3734)\t0.1493278362067339\n",
            "  (3, 3426)\t0.27597915385600236\n",
            "  (3, 3031)\t0.22794604236977611\n",
            "  :\t:\n",
            "  (1113, 2777)\t0.1840772113081856\n",
            "  (1113, 2672)\t0.4789626906387066\n",
            "  (1113, 2559)\t0.3719486402622901\n",
            "  (1113, 2057)\t0.20136217145373378\n",
            "  (1113, 1870)\t0.19522635494311427\n",
            "  (1113, 1007)\t0.16791474054894778\n",
            "  (1113, 706)\t0.22042175838654351\n",
            "  (1113, 371)\t0.2283322016844246\n",
            "  (1113, 363)\t0.2283322016844246\n",
            "  (1113, 72)\t0.2394813453193533\n",
            "  (1114, 6946)\t0.26557349263538443\n",
            "  (1114, 6908)\t0.222660726972698\n",
            "  (1114, 5222)\t0.21934576205382994\n",
            "  (1114, 4678)\t0.2112510810489856\n",
            "  (1114, 4388)\t0.19901462066802464\n",
            "  (1114, 3974)\t0.2436980203548344\n",
            "  (1114, 3860)\t0.2789734822738453\n",
            "  (1114, 3166)\t0.23737440167204174\n",
            "  (1114, 1771)\t0.20583001362507672\n",
            "  (1114, 1144)\t0.2539492219088177\n",
            "  (1114, 444)\t0.3137587060993002\n",
            "  (1114, 360)\t0.26557349263538443\n",
            "  (1114, 320)\t0.2569560931851334\n",
            "  (1114, 299)\t0.2789734822738453\n",
            "  (1114, 211)\t0.366472834265809\n",
            "5280    0\n",
            "1208    0\n",
            "3782    0\n",
            "5496    0\n",
            "4796   -1\n",
            "       ..\n",
            "3426    0\n",
            "4221    0\n",
            "1008    0\n",
            "5176    0\n",
            "2113    0\n",
            "Name: v1, Length: 4457, dtype: int64\n",
            "2683    0\n",
            "2055    0\n",
            "3571    0\n",
            "25      0\n",
            "1513    0\n",
            "       ..\n",
            "4599    0\n",
            "3756   -1\n",
            "2202    0\n",
            "1162   -1\n",
            "4757   -1\n",
            "Name: v1, Length: 1115, dtype: int64\n"
          ]
        }
      ]
    },
    {
      "cell_type": "code",
      "source": [
        "from sklearn.linear_model import LogisticRegression\n",
        "b=LogisticRegression()\n",
        "b.fit(xtrain,ytrain)\n",
        "y_pred=b.predict(xtest)"
      ],
      "metadata": {
        "id": "TcGnjnsFgVPF"
      },
      "execution_count": null,
      "outputs": []
    },
    {
      "cell_type": "code",
      "source": [
        "from sklearn.metrics import accuracy_score\n",
        "print(accuracy_score(ytest,y_pred))"
      ],
      "metadata": {
        "colab": {
          "base_uri": "https://localhost:8080/"
        },
        "id": "vDQdQD6Lgk3n",
        "outputId": "1d7493f8-5b15-4117-f35f-b0182ae763b0"
      },
      "execution_count": null,
      "outputs": [
        {
          "output_type": "stream",
          "name": "stdout",
          "text": [
            "0.9721973094170404\n"
          ]
        }
      ]
    },
    {
      "cell_type": "code",
      "source": [
        "from sklearn.metrics import confusion_matrix\n",
        "print(confusion_matrix(ytest,y_pred))"
      ],
      "metadata": {
        "colab": {
          "base_uri": "https://localhost:8080/"
        },
        "id": "v6smJi0zgx6y",
        "outputId": "7fb5fa3c-32d6-47ce-a19a-c9a2fe670397"
      },
      "execution_count": null,
      "outputs": [
        {
          "output_type": "stream",
          "name": "stdout",
          "text": [
            "[[108  29]\n",
            " [  2 976]]\n"
          ]
        }
      ]
    },
    {
      "cell_type": "code",
      "source": [
        "from sklearn.metrics import classification_report\n",
        "print(classification_report(ytest,y_pred))"
      ],
      "metadata": {
        "colab": {
          "base_uri": "https://localhost:8080/"
        },
        "id": "ygQur03hg9uN",
        "outputId": "9f1a188a-94ca-44bd-9917-85fbd0feabc6"
      },
      "execution_count": null,
      "outputs": [
        {
          "output_type": "stream",
          "name": "stdout",
          "text": [
            "              precision    recall  f1-score   support\n",
            "\n",
            "          -1       0.98      0.79      0.87       137\n",
            "           0       0.97      1.00      0.98       978\n",
            "\n",
            "    accuracy                           0.97      1115\n",
            "   macro avg       0.98      0.89      0.93      1115\n",
            "weighted avg       0.97      0.97      0.97      1115\n",
            "\n"
          ]
        }
      ]
    }
  ]
}